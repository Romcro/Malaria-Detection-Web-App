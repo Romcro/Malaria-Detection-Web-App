
# Malaria Detection Model Evaluation

This notebook is used to evaluate the performance of the Malaria Detection model and measure key metrics like accuracy, training time, prediction time, and model generalization.

## 1. **Loading the Model**

We begin by loading the pre-trained model from the `.h5` file.

```python
import tensorflow as tf

# Load the model
model = tf.keras.models.load_model('path_to_model/malaria_model.h5')
```

## 2. **Model Evaluation on Test Set**

We can evaluate the accuracy of the model on the test dataset using the following code:

```python
# Evaluate the accuracy on the test set (ds_test is your test dataset)
test_loss, test_accuracy = model.evaluate(ds_test)
print(f"Test Accuracy: {test_accuracy * 100:.2f}%")
```

## 3. **Training History (if available)**

If you saved the training history during model training, you can plot the accuracy and loss curves:

```python
import matplotlib.pyplot as plt

# Access the training history
history = model.history  # If the history is available from training

# Plot the accuracy for training and validation sets
plt.plot(history.history['accuracy'], label='Train Accuracy')
plt.plot(history.history['val_accuracy'], label='Validation Accuracy')
plt.xlabel('Epochs')
plt.ylabel('Accuracy')
plt.legend()
plt.title('Training and Validation Accuracy')
plt.show()
```

## 4. **Prediction Time**

To measure the time taken for a prediction on a batch of test images, use the following code:

```python
import time

# Start time
start_time = time.time()

# Example: Take a sample from the test dataset
sample_image = ds_test.take(1)  # Take one batch from the dataset

# Perform prediction
prediction = model.predict(sample_image)

# End time
end_time = time.time()
prediction_time = end_time - start_time

print(f"Prediction time for the batch: {prediction_time:.4f} seconds")
```

## 5. **Generalization Ability**

Evaluate the model on both the training and test datasets to check the model's generalization:

```python
# Evaluate accuracy on the training set
train_loss, train_accuracy = model.evaluate(ds_train)
print(f"Training Accuracy: {train_accuracy * 100:.2f}%")

# Evaluate accuracy on the test set
test_loss, test_accuracy = model.evaluate(ds_test)
print(f"Test Accuracy: {test_accuracy * 100:.2f}%")
```

## 6. **Final Report**

Once these metrics are gathered, you can generate a report that includes:

- **Test Accuracy**: This is the accuracy of the model on the unseen test data.
- **Training Time**: The time taken for the model to train (if saved during training).
- **Prediction Time**: The time taken to make a prediction on a batch of data.
- **Model Generalization**: Comparison between training and test accuracy to check if the model is overfitting or underfitting.

These metrics will help in understanding the performance and efficiency of the model.
